{
 "cells": [
  {
   "cell_type": "code",
   "execution_count": 2,
   "id": "06044083",
   "metadata": {},
   "outputs": [],
   "source": [
    "import pickle\n",
    "import numpy as np\n",
    "from keras.models import Sequential,Model\n",
    "from tensorflow.keras.layers import Embedding\n",
    "from keras.layers import Input,Activation,Dense, Permute, Dropout, add, dot, concatenate, LSTM\n",
    "from keras_preprocessing.sequence import pad_sequences\n",
    "from keras.preprocessing.text import Tokenizer"
   ]
  },
  {
   "cell_type": "code",
   "execution_count": 3,
   "id": "03aecf57",
   "metadata": {},
   "outputs": [],
   "source": [
    "with open('train_qa.txt', 'rb') as f:\n",
    "    train_data = pickle.load(f)\n",
    "\n",
    "with open('test_qa.txt', 'rb') as f:\n",
    "    test_data = pickle.load(f)"
   ]
  },
  {
   "cell_type": "code",
   "execution_count": 4,
   "id": "83bf9b3d",
   "metadata": {},
   "outputs": [
    {
     "data": {
      "text/plain": [
       "list"
      ]
     },
     "execution_count": 4,
     "metadata": {},
     "output_type": "execute_result"
    }
   ],
   "source": [
    "type(test_data)"
   ]
  },
  {
   "cell_type": "code",
   "execution_count": 5,
   "id": "9b14cddc",
   "metadata": {},
   "outputs": [
    {
     "data": {
      "text/plain": [
       "list"
      ]
     },
     "execution_count": 5,
     "metadata": {},
     "output_type": "execute_result"
    }
   ],
   "source": [
    "type(train_data)"
   ]
  },
  {
   "cell_type": "code",
   "execution_count": 6,
   "id": "7678f061",
   "metadata": {},
   "outputs": [
    {
     "data": {
      "text/plain": [
       "1000"
      ]
     },
     "execution_count": 6,
     "metadata": {},
     "output_type": "execute_result"
    }
   ],
   "source": [
    "len(test_data)"
   ]
  },
  {
   "cell_type": "code",
   "execution_count": 7,
   "id": "dd805323",
   "metadata": {},
   "outputs": [
    {
     "data": {
      "text/plain": [
       "10000"
      ]
     },
     "execution_count": 7,
     "metadata": {},
     "output_type": "execute_result"
    }
   ],
   "source": [
    "len(train_data)"
   ]
  },
  {
   "cell_type": "code",
   "execution_count": 8,
   "id": "8cd066b0",
   "metadata": {},
   "outputs": [
    {
     "data": {
      "text/plain": [
       "(['Mary',\n",
       "  'moved',\n",
       "  'to',\n",
       "  'the',\n",
       "  'bathroom',\n",
       "  '.',\n",
       "  'Sandra',\n",
       "  'journeyed',\n",
       "  'to',\n",
       "  'the',\n",
       "  'bedroom',\n",
       "  '.'],\n",
       " ['Is', 'Sandra', 'in', 'the', 'hallway', '?'],\n",
       " 'no')"
      ]
     },
     "execution_count": 8,
     "metadata": {},
     "output_type": "execute_result"
    }
   ],
   "source": [
    "train_data[0]"
   ]
  },
  {
   "cell_type": "code",
   "execution_count": 9,
   "id": "b10a8e4e",
   "metadata": {},
   "outputs": [
    {
     "data": {
      "text/plain": [
       "['Is', 'Sandra', 'in', 'the', 'hallway', '?']"
      ]
     },
     "execution_count": 9,
     "metadata": {},
     "output_type": "execute_result"
    }
   ],
   "source": [
    "train_data[0][1]"
   ]
  },
  {
   "cell_type": "code",
   "execution_count": 10,
   "id": "5bc371ed",
   "metadata": {},
   "outputs": [
    {
     "data": {
      "text/plain": [
       "['Mary',\n",
       " 'moved',\n",
       " 'to',\n",
       " 'the',\n",
       " 'bathroom',\n",
       " '.',\n",
       " 'Sandra',\n",
       " 'journeyed',\n",
       " 'to',\n",
       " 'the',\n",
       " 'bedroom',\n",
       " '.']"
      ]
     },
     "execution_count": 10,
     "metadata": {},
     "output_type": "execute_result"
    }
   ],
   "source": [
    "train_data[0][0]"
   ]
  },
  {
   "cell_type": "code",
   "execution_count": 11,
   "id": "72b3f224",
   "metadata": {},
   "outputs": [
    {
     "data": {
      "text/plain": [
       "'no'"
      ]
     },
     "execution_count": 11,
     "metadata": {},
     "output_type": "execute_result"
    }
   ],
   "source": [
    "train_data[0][2]"
   ]
  },
  {
   "cell_type": "code",
   "execution_count": 12,
   "id": "08823260",
   "metadata": {},
   "outputs": [],
   "source": [
    "all_data = test_data + train_data"
   ]
  },
  {
   "cell_type": "code",
   "execution_count": 13,
   "id": "1f2460e8",
   "metadata": {},
   "outputs": [
    {
     "data": {
      "text/plain": [
       "11000"
      ]
     },
     "execution_count": 13,
     "metadata": {},
     "output_type": "execute_result"
    }
   ],
   "source": [
    "len(all_data)"
   ]
  },
  {
   "cell_type": "code",
   "execution_count": 14,
   "id": "4d43e26f",
   "metadata": {},
   "outputs": [],
   "source": [
    "vocab = set()\n",
    "for story, question, answer in all_data:\n",
    "    vocab = vocab.union(set(story))\n",
    "    vocab = vocab.union(set(question))"
   ]
  },
  {
   "cell_type": "code",
   "execution_count": 15,
   "id": "b7ee85a8",
   "metadata": {},
   "outputs": [],
   "source": [
    "vocab.add('no')"
   ]
  },
  {
   "cell_type": "code",
   "execution_count": 16,
   "id": "0d71eb1a",
   "metadata": {},
   "outputs": [],
   "source": [
    "vocab.add('yes')"
   ]
  },
  {
   "cell_type": "code",
   "execution_count": 17,
   "id": "e49aa8b1",
   "metadata": {},
   "outputs": [],
   "source": [
    "vocab_len = len(vocab) + 1"
   ]
  },
  {
   "cell_type": "code",
   "execution_count": 18,
   "id": "5b54d054",
   "metadata": {},
   "outputs": [
    {
     "data": {
      "text/plain": [
       "38"
      ]
     },
     "execution_count": 18,
     "metadata": {},
     "output_type": "execute_result"
    }
   ],
   "source": [
    "vocab_len"
   ]
  },
  {
   "cell_type": "code",
   "execution_count": 19,
   "id": "970a4e70",
   "metadata": {},
   "outputs": [],
   "source": [
    "all_story_lens = [len(data[0]) for data in all_data]"
   ]
  },
  {
   "cell_type": "code",
   "execution_count": 20,
   "id": "bd091d74",
   "metadata": {},
   "outputs": [],
   "source": [
    "max_story_len = max(all_story_lens)"
   ]
  },
  {
   "cell_type": "code",
   "execution_count": 21,
   "id": "784c3516",
   "metadata": {},
   "outputs": [
    {
     "data": {
      "text/plain": [
       "156"
      ]
     },
     "execution_count": 21,
     "metadata": {},
     "output_type": "execute_result"
    }
   ],
   "source": [
    "max_story_len"
   ]
  },
  {
   "cell_type": "code",
   "execution_count": 22,
   "id": "97cd5543",
   "metadata": {},
   "outputs": [],
   "source": [
    "max_question_len = max([len(data[1]) for data in all_data])"
   ]
  },
  {
   "cell_type": "code",
   "execution_count": 23,
   "id": "c139b724",
   "metadata": {},
   "outputs": [
    {
     "data": {
      "text/plain": [
       "6"
      ]
     },
     "execution_count": 23,
     "metadata": {},
     "output_type": "execute_result"
    }
   ],
   "source": [
    "max_question_len"
   ]
  },
  {
   "cell_type": "code",
   "execution_count": 24,
   "id": "afd926af",
   "metadata": {},
   "outputs": [],
   "source": [
    "tokenizer = Tokenizer(filters=[])\n",
    "tokenizer.fit_on_texts(vocab)"
   ]
  },
  {
   "cell_type": "code",
   "execution_count": 25,
   "id": "d90f0dc2",
   "metadata": {},
   "outputs": [
    {
     "data": {
      "text/plain": [
       "{'bathroom': 1,\n",
       " 'in': 2,\n",
       " 'grabbed': 3,\n",
       " 'kitchen': 4,\n",
       " 'football': 5,\n",
       " 'went': 6,\n",
       " 'left': 7,\n",
       " 'mary': 8,\n",
       " 'dropped': 9,\n",
       " '?': 10,\n",
       " 'apple': 11,\n",
       " 'back': 12,\n",
       " 'travelled': 13,\n",
       " 'sandra': 14,\n",
       " '.': 15,\n",
       " 'took': 16,\n",
       " 'office': 17,\n",
       " 'no': 18,\n",
       " 'picked': 19,\n",
       " 'down': 20,\n",
       " 'there': 21,\n",
       " 'discarded': 22,\n",
       " 'garden': 23,\n",
       " 'to': 24,\n",
       " 'hallway': 25,\n",
       " 'journeyed': 26,\n",
       " 'john': 27,\n",
       " 'the': 28,\n",
       " 'up': 29,\n",
       " 'moved': 30,\n",
       " 'yes': 31,\n",
       " 'daniel': 32,\n",
       " 'milk': 33,\n",
       " 'bedroom': 34,\n",
       " 'is': 35,\n",
       " 'put': 36,\n",
       " 'got': 37}"
      ]
     },
     "execution_count": 25,
     "metadata": {},
     "output_type": "execute_result"
    }
   ],
   "source": [
    "tokenizer.word_index"
   ]
  },
  {
   "cell_type": "code",
   "execution_count": 26,
   "id": "e5809525",
   "metadata": {},
   "outputs": [],
   "source": [
    "train_story_text = []\n",
    "train_question_text = []\n",
    "train_answers = []"
   ]
  },
  {
   "cell_type": "code",
   "execution_count": 27,
   "id": "23d7fe13",
   "metadata": {},
   "outputs": [],
   "source": [
    "for story, question, answer in train_data:\n",
    "    train_story_text.append(story)\n",
    "    train_question_text.append(question)\n",
    "    train_answers.append(answer)"
   ]
  },
  {
   "cell_type": "code",
   "execution_count": 28,
   "id": "c737305e",
   "metadata": {},
   "outputs": [],
   "source": [
    "train_story_seq = tokenizer.texts_to_sequences(train_story_text)"
   ]
  },
  {
   "cell_type": "code",
   "execution_count": 29,
   "id": "56c22b7d",
   "metadata": {},
   "outputs": [
    {
     "data": {
      "text/plain": [
       "10000"
      ]
     },
     "execution_count": 29,
     "metadata": {},
     "output_type": "execute_result"
    }
   ],
   "source": [
    "len(train_story_seq)"
   ]
  },
  {
   "cell_type": "code",
   "execution_count": 30,
   "id": "165b2abe",
   "metadata": {},
   "outputs": [],
   "source": [
    "def vectorize_stories(data,word_index=tokenizer.word_index,max_story_len=max_story_len,max_question_len=max_question_len):\n",
    "    #Stories\n",
    "    X = []\n",
    "    # Question\n",
    "    Xq = []\n",
    "    # Y question Answer (yes/no)\n",
    "    Y = []\n",
    "    \n",
    "    for story,query,answer in data:\n",
    "        # for each story\n",
    "        # [23,16,......]\n",
    "        x = [word_index[word.lower()] for word in story]\n",
    "        xq = [word_index[word.lower()] for word in query]\n",
    "        y = np.zeros(len(word_index)+1)\n",
    "        y[word_index[answer]] = 1\n",
    "        X.append(x)\n",
    "        Xq.append(xq)\n",
    "        Y.append(y)\n",
    "    \n",
    "    return(pad_sequences(X,maxlen=max_story_len),pad_sequences(Xq,maxlen=max_question_len),np.array(Y))"
   ]
  },
  {
   "cell_type": "code",
   "execution_count": 33,
   "id": "f6e48225",
   "metadata": {},
   "outputs": [],
   "source": [
    "inputs_train, queries_train, answer_train = vectorize_stories(train_data)"
   ]
  },
  {
   "cell_type": "code",
   "execution_count": 34,
   "id": "30b87683",
   "metadata": {},
   "outputs": [],
   "source": [
    "input_test, queries_test, answer_test = vectorize_stories(test_data)"
   ]
  },
  {
   "cell_type": "code",
   "execution_count": 35,
   "id": "8c6757bf",
   "metadata": {},
   "outputs": [
    {
     "data": {
      "text/plain": [
       "array([[ 0,  0,  0, ..., 28, 34, 15],\n",
       "       [ 0,  0,  0, ..., 28, 25, 15],\n",
       "       [ 0,  0,  0, ..., 28,  1, 15],\n",
       "       ...,\n",
       "       [ 0,  0,  0, ..., 28, 34, 15],\n",
       "       [ 0,  0,  0, ..., 33, 21, 15],\n",
       "       [ 0,  0,  0, ..., 11, 21, 15]])"
      ]
     },
     "execution_count": 35,
     "metadata": {},
     "output_type": "execute_result"
    }
   ],
   "source": [
    "inputs_train"
   ]
  },
  {
   "cell_type": "code",
   "execution_count": 36,
   "id": "bc384463",
   "metadata": {},
   "outputs": [
    {
     "data": {
      "text/plain": [
       "array([[ 0,  0,  0, ..., 28, 34, 15],\n",
       "       [ 0,  0,  0, ..., 28, 23, 15],\n",
       "       [ 0,  0,  0, ..., 28, 23, 15],\n",
       "       ...,\n",
       "       [ 0,  0,  0, ..., 28, 11, 15],\n",
       "       [ 0,  0,  0, ..., 28, 23, 15],\n",
       "       [ 0,  0,  0, ..., 11, 21, 15]])"
      ]
     },
     "execution_count": 36,
     "metadata": {},
     "output_type": "execute_result"
    }
   ],
   "source": [
    "input_test"
   ]
  },
  {
   "cell_type": "code",
   "execution_count": 37,
   "id": "c7befaa4",
   "metadata": {},
   "outputs": [
    {
     "data": {
      "text/plain": [
       "array([[35, 14,  2, 28, 25, 10],\n",
       "       [35, 32,  2, 28,  1, 10],\n",
       "       [35, 32,  2, 28, 17, 10],\n",
       "       ...,\n",
       "       [35, 14,  2, 28, 25, 10],\n",
       "       [35,  8,  2, 28,  4, 10],\n",
       "       [35,  8,  2, 28, 34, 10]])"
      ]
     },
     "execution_count": 37,
     "metadata": {},
     "output_type": "execute_result"
    }
   ],
   "source": [
    "queries_train"
   ]
  },
  {
   "cell_type": "code",
   "execution_count": 38,
   "id": "ed1ccfa5",
   "metadata": {},
   "outputs": [
    {
     "data": {
      "text/plain": [
       "array([[35, 27,  2, 28,  4, 10],\n",
       "       [35, 27,  2, 28,  4, 10],\n",
       "       [35, 27,  2, 28, 23, 10],\n",
       "       ...,\n",
       "       [35,  8,  2, 28, 34, 10],\n",
       "       [35, 14,  2, 28, 23, 10],\n",
       "       [35,  8,  2, 28, 23, 10]])"
      ]
     },
     "execution_count": 38,
     "metadata": {},
     "output_type": "execute_result"
    }
   ],
   "source": [
    "queries_test"
   ]
  },
  {
   "cell_type": "code",
   "execution_count": 39,
   "id": "6909f7b9",
   "metadata": {},
   "outputs": [
    {
     "data": {
      "text/plain": [
       "array([[0., 0., 0., ..., 0., 0., 0.],\n",
       "       [0., 0., 0., ..., 0., 0., 0.],\n",
       "       [0., 0., 0., ..., 0., 0., 0.],\n",
       "       ...,\n",
       "       [0., 0., 0., ..., 0., 0., 0.],\n",
       "       [0., 0., 0., ..., 0., 0., 0.],\n",
       "       [0., 0., 0., ..., 0., 0., 0.]])"
      ]
     },
     "execution_count": 39,
     "metadata": {},
     "output_type": "execute_result"
    }
   ],
   "source": [
    "answer_train"
   ]
  },
  {
   "cell_type": "code",
   "execution_count": 41,
   "id": "2c3052fd",
   "metadata": {},
   "outputs": [
    {
     "data": {
      "text/plain": [
       "31"
      ]
     },
     "execution_count": 41,
     "metadata": {},
     "output_type": "execute_result"
    }
   ],
   "source": [
    "tokenizer.word_index['yes']"
   ]
  },
  {
   "cell_type": "code",
   "execution_count": 42,
   "id": "70b1b251",
   "metadata": {},
   "outputs": [
    {
     "data": {
      "text/plain": [
       "18"
      ]
     },
     "execution_count": 42,
     "metadata": {},
     "output_type": "execute_result"
    }
   ],
   "source": [
    "tokenizer.word_index['no']"
   ]
  },
  {
   "cell_type": "code",
   "execution_count": 43,
   "id": "424a7502",
   "metadata": {},
   "outputs": [],
   "source": [
    "input_sequence=Input((max_story_len,))\n",
    "question = Input((max_question_len,))"
   ]
  },
  {
   "cell_type": "code",
   "execution_count": 44,
   "id": "638d70d3",
   "metadata": {},
   "outputs": [],
   "source": [
    "vocab_size=len(vocab)+1"
   ]
  },
  {
   "cell_type": "code",
   "execution_count": 45,
   "id": "97c44579",
   "metadata": {},
   "outputs": [],
   "source": [
    "input_encoder_m = Sequential()\n",
    "input_encoder_m.add(Embedding(input_dim=vocab_size,output_dim=64))\n",
    "input_encoder_m.add(Dropout(0.3))"
   ]
  },
  {
   "cell_type": "code",
   "execution_count": 46,
   "id": "cd3bf19c",
   "metadata": {},
   "outputs": [],
   "source": [
    "input_encoder_c = Sequential()\n",
    "input_encoder_c.add(Embedding(input_dim=vocab_size,output_dim=max_question_len))\n",
    "input_encoder_c.add(Dropout(0.3))"
   ]
  },
  {
   "cell_type": "code",
   "execution_count": 47,
   "id": "a9744b73",
   "metadata": {},
   "outputs": [],
   "source": [
    "question_encoder = Sequential()\n",
    "question_encoder.add(Embedding(input_dim=vocab_size,output_dim=64,input_length=max_question_len))\n",
    "question_encoder.add(Dropout(0.3))"
   ]
  },
  {
   "cell_type": "code",
   "execution_count": 48,
   "id": "1adea35b",
   "metadata": {},
   "outputs": [],
   "source": [
    "input_encoded_m = input_encoder_m(input_sequence)\n",
    "input_encoded_c = input_encoder_c(input_sequence)\n",
    "question_encoded = question_encoder(question)"
   ]
  },
  {
   "cell_type": "code",
   "execution_count": 49,
   "id": "004a335c",
   "metadata": {},
   "outputs": [],
   "source": [
    "match = dot([input_encoded_m,question_encoded], axes=(2,2))\n",
    "match = Activation('softmax')(match)"
   ]
  },
  {
   "cell_type": "code",
   "execution_count": 50,
   "id": "8814b1f8",
   "metadata": {},
   "outputs": [],
   "source": [
    "response = add([match,input_encoded_c])\n",
    "response = Permute((2,1))(response)"
   ]
  },
  {
   "cell_type": "code",
   "execution_count": 51,
   "id": "f0507741",
   "metadata": {},
   "outputs": [],
   "source": [
    "answer = concatenate([response,question_encoded])"
   ]
  },
  {
   "cell_type": "code",
   "execution_count": 52,
   "id": "7fd9f56f",
   "metadata": {},
   "outputs": [],
   "source": [
    "answer = LSTM(32)(answer)"
   ]
  },
  {
   "cell_type": "code",
   "execution_count": 53,
   "id": "bd1d35dd",
   "metadata": {},
   "outputs": [],
   "source": [
    "answer = Dropout(0.5)(answer)\n",
    "answer = Dense(vocab_size)(answer)"
   ]
  },
  {
   "cell_type": "code",
   "execution_count": 54,
   "id": "d19631c7",
   "metadata": {},
   "outputs": [],
   "source": [
    "answer = Activation('softmax')(answer)"
   ]
  },
  {
   "cell_type": "code",
   "execution_count": 55,
   "id": "b3bc2879",
   "metadata": {},
   "outputs": [],
   "source": [
    "model = Model([input_sequence,question], answer)"
   ]
  },
  {
   "cell_type": "code",
   "execution_count": 56,
   "id": "88162d01",
   "metadata": {},
   "outputs": [],
   "source": [
    "model.compile(optimizer = 'rmsprop', loss='categorical_crossentropy', metrics=['accuracy'])"
   ]
  },
  {
   "cell_type": "code",
   "execution_count": 57,
   "id": "654780c6",
   "metadata": {},
   "outputs": [
    {
     "name": "stdout",
     "output_type": "stream",
     "text": [
      "Model: \"model\"\n",
      "__________________________________________________________________________________________________\n",
      " Layer (type)                   Output Shape         Param #     Connected to                     \n",
      "==================================================================================================\n",
      " input_1 (InputLayer)           [(None, 156)]        0           []                               \n",
      "                                                                                                  \n",
      " input_2 (InputLayer)           [(None, 6)]          0           []                               \n",
      "                                                                                                  \n",
      " sequential (Sequential)        (None, None, 64)     2432        ['input_1[0][0]']                \n",
      "                                                                                                  \n",
      " sequential_2 (Sequential)      (None, 6, 64)        2432        ['input_2[0][0]']                \n",
      "                                                                                                  \n",
      " dot (Dot)                      (None, 156, 6)       0           ['sequential[0][0]',             \n",
      "                                                                  'sequential_2[0][0]']           \n",
      "                                                                                                  \n",
      " activation (Activation)        (None, 156, 6)       0           ['dot[0][0]']                    \n",
      "                                                                                                  \n",
      " sequential_1 (Sequential)      (None, None, 6)      228         ['input_1[0][0]']                \n",
      "                                                                                                  \n",
      " add (Add)                      (None, 156, 6)       0           ['activation[0][0]',             \n",
      "                                                                  'sequential_1[0][0]']           \n",
      "                                                                                                  \n",
      " permute (Permute)              (None, 6, 156)       0           ['add[0][0]']                    \n",
      "                                                                                                  \n",
      " concatenate (Concatenate)      (None, 6, 220)       0           ['permute[0][0]',                \n",
      "                                                                  'sequential_2[0][0]']           \n",
      "                                                                                                  \n",
      " lstm (LSTM)                    (None, 32)           32384       ['concatenate[0][0]']            \n",
      "                                                                                                  \n",
      " dropout_3 (Dropout)            (None, 32)           0           ['lstm[0][0]']                   \n",
      "                                                                                                  \n",
      " dense (Dense)                  (None, 38)           1254        ['dropout_3[0][0]']              \n",
      "                                                                                                  \n",
      " activation_1 (Activation)      (None, 38)           0           ['dense[0][0]']                  \n",
      "                                                                                                  \n",
      "==================================================================================================\n",
      "Total params: 38,730\n",
      "Trainable params: 38,730\n",
      "Non-trainable params: 0\n",
      "__________________________________________________________________________________________________\n"
     ]
    }
   ],
   "source": [
    "model.summary()"
   ]
  },
  {
   "cell_type": "code",
   "execution_count": 59,
   "id": "ec97ffb7",
   "metadata": {
    "scrolled": false
   },
   "outputs": [
    {
     "name": "stdout",
     "output_type": "stream",
     "text": [
      "Epoch 1/25\n",
      "313/313 [==============================] - 5s 9ms/step - loss: 0.8690 - accuracy: 0.4869 - val_loss: 0.6979 - val_accuracy: 0.4970\n",
      "Epoch 2/25\n",
      "313/313 [==============================] - 2s 7ms/step - loss: 0.6995 - accuracy: 0.5012 - val_loss: 0.6932 - val_accuracy: 0.5030\n",
      "Epoch 3/25\n",
      "313/313 [==============================] - 2s 7ms/step - loss: 0.6952 - accuracy: 0.5034 - val_loss: 0.6945 - val_accuracy: 0.5030\n",
      "Epoch 4/25\n",
      "313/313 [==============================] - 2s 7ms/step - loss: 0.6943 - accuracy: 0.5012 - val_loss: 0.6945 - val_accuracy: 0.5030\n",
      "Epoch 5/25\n",
      "313/313 [==============================] - 2s 7ms/step - loss: 0.6952 - accuracy: 0.5014 - val_loss: 0.6944 - val_accuracy: 0.4970\n",
      "Epoch 6/25\n",
      "313/313 [==============================] - 2s 7ms/step - loss: 0.6947 - accuracy: 0.5002 - val_loss: 0.6974 - val_accuracy: 0.4970\n",
      "Epoch 7/25\n",
      "313/313 [==============================] - 2s 7ms/step - loss: 0.6942 - accuracy: 0.5023 - val_loss: 0.6973 - val_accuracy: 0.5030\n",
      "Epoch 8/25\n",
      "313/313 [==============================] - 2s 7ms/step - loss: 0.6944 - accuracy: 0.5028 - val_loss: 0.6935 - val_accuracy: 0.5030\n",
      "Epoch 9/25\n",
      "313/313 [==============================] - 2s 7ms/step - loss: 0.6942 - accuracy: 0.5023 - val_loss: 0.6935 - val_accuracy: 0.4720\n",
      "Epoch 10/25\n",
      "313/313 [==============================] - 2s 7ms/step - loss: 0.6939 - accuracy: 0.5067 - val_loss: 0.6947 - val_accuracy: 0.5030\n",
      "Epoch 11/25\n",
      "313/313 [==============================] - 2s 7ms/step - loss: 0.6915 - accuracy: 0.5230 - val_loss: 0.6911 - val_accuracy: 0.4950\n",
      "Epoch 12/25\n",
      "313/313 [==============================] - 2s 7ms/step - loss: 0.6819 - accuracy: 0.5530 - val_loss: 0.6772 - val_accuracy: 0.5740\n",
      "Epoch 13/25\n",
      "313/313 [==============================] - 2s 7ms/step - loss: 0.6613 - accuracy: 0.6051 - val_loss: 0.6427 - val_accuracy: 0.6660\n",
      "Epoch 14/25\n",
      "313/313 [==============================] - 2s 7ms/step - loss: 0.6312 - accuracy: 0.6516 - val_loss: 0.5946 - val_accuracy: 0.6980\n",
      "Epoch 15/25\n",
      "313/313 [==============================] - 2s 7ms/step - loss: 0.5902 - accuracy: 0.6970 - val_loss: 0.5308 - val_accuracy: 0.7570\n",
      "Epoch 16/25\n",
      "313/313 [==============================] - 2s 7ms/step - loss: 0.5417 - accuracy: 0.7318 - val_loss: 0.4967 - val_accuracy: 0.7690\n",
      "Epoch 17/25\n",
      "313/313 [==============================] - 2s 7ms/step - loss: 0.5129 - accuracy: 0.7581 - val_loss: 0.4763 - val_accuracy: 0.7770\n",
      "Epoch 18/25\n",
      "313/313 [==============================] - 2s 7ms/step - loss: 0.4929 - accuracy: 0.7714 - val_loss: 0.4948 - val_accuracy: 0.7870\n",
      "Epoch 19/25\n",
      "313/313 [==============================] - 2s 7ms/step - loss: 0.4733 - accuracy: 0.7843 - val_loss: 0.4495 - val_accuracy: 0.8000\n",
      "Epoch 20/25\n",
      "313/313 [==============================] - 2s 7ms/step - loss: 0.4561 - accuracy: 0.8013 - val_loss: 0.4296 - val_accuracy: 0.8080\n",
      "Epoch 21/25\n",
      "313/313 [==============================] - 2s 7ms/step - loss: 0.4197 - accuracy: 0.8242 - val_loss: 0.4611 - val_accuracy: 0.8250\n",
      "Epoch 22/25\n",
      "313/313 [==============================] - 2s 7ms/step - loss: 0.4059 - accuracy: 0.8302 - val_loss: 0.4452 - val_accuracy: 0.8230\n",
      "Epoch 23/25\n",
      "313/313 [==============================] - 2s 7ms/step - loss: 0.4018 - accuracy: 0.8345 - val_loss: 0.4146 - val_accuracy: 0.8330\n",
      "Epoch 24/25\n",
      "313/313 [==============================] - 2s 7ms/step - loss: 0.3881 - accuracy: 0.8408 - val_loss: 0.4064 - val_accuracy: 0.8180\n",
      "Epoch 25/25\n",
      "313/313 [==============================] - 2s 7ms/step - loss: 0.3766 - accuracy: 0.8435 - val_loss: 0.3945 - val_accuracy: 0.8250\n"
     ]
    }
   ],
   "source": [
    "history = model.fit([inputs_train,queries_train],answer_train,batch_size=32,epochs=25,validation_data=([input_test,queries_test],answer_test))"
   ]
  },
  {
   "cell_type": "code",
   "execution_count": 61,
   "id": "1c31a9ab",
   "metadata": {},
   "outputs": [
    {
     "name": "stdout",
     "output_type": "stream",
     "text": [
      "dict_keys(['loss', 'accuracy', 'val_loss', 'val_accuracy'])\n"
     ]
    },
    {
     "data": {
      "image/png": "[encoded data removed]",
      "text/plain": [
       "<Figure size 432x288 with 1 Axes>"
      ]
     },
     "metadata": {
      "needs_background": "light"
     },
     "output_type": "display_data"
    },
    {
     "data": {
      "text/plain": [
       "<Figure size 432x288 with 0 Axes>"
      ]
     },
     "metadata": {},
     "output_type": "display_data"
    }
   ],
   "source": [
    "import matplotlib.pyplot as plt\n",
    "print(history.history.keys())\n",
    "# summarize history for accuracy\n",
    "plt.plot(history.history['accuracy'])\n",
    "plt.plot(history.history['val_accuracy'])\n",
    "plt.title('model accuracy')\n",
    "plt.ylabel('accuracy')\n",
    "plt.xlabel('epoch')\n",
    "plt.legend(['train', 'test'], loc='upper left')\n",
    "plt.show()\n",
    "\n",
    "plt.savefig('screenshot.png',bbox_inches='tight')"
   ]
  },
  {
   "cell_type": "code",
   "execution_count": 62,
   "id": "9c42975d",
   "metadata": {},
   "outputs": [
    {
     "name": "stdout",
     "output_type": "stream",
     "text": [
      "32/32 [==============================] - 0s 3ms/step\n"
     ]
    }
   ],
   "source": [
    "pred_results = model.predict(([input_test,queries_test]))"
   ]
  },
  {
   "cell_type": "code",
   "execution_count": 67,
   "id": "d69f4fbe",
   "metadata": {},
   "outputs": [
    {
     "data": {
      "text/plain": [
       "['Mary',\n",
       " 'got',\n",
       " 'the',\n",
       " 'milk',\n",
       " 'there',\n",
       " '.',\n",
       " 'John',\n",
       " 'moved',\n",
       " 'to',\n",
       " 'the',\n",
       " 'bedroom',\n",
       " '.']"
      ]
     },
     "execution_count": 67,
     "metadata": {},
     "output_type": "execute_result"
    }
   ],
   "source": [
    "test_data[0][0]"
   ]
  },
  {
   "cell_type": "code",
   "execution_count": 68,
   "id": "1c189946",
   "metadata": {},
   "outputs": [
    {
     "data": {
      "text/plain": [
       "['Is', 'John', 'in', 'the', 'kitchen', '?']"
      ]
     },
     "execution_count": 68,
     "metadata": {},
     "output_type": "execute_result"
    }
   ],
   "source": [
    "test_data[0][1]"
   ]
  },
  {
   "cell_type": "code",
   "execution_count": 69,
   "id": "0f827026",
   "metadata": {},
   "outputs": [],
   "source": [
    "val_max = np.argmax(pred_results[0])"
   ]
  },
  {
   "cell_type": "code",
   "execution_count": 70,
   "id": "cdf98bac",
   "metadata": {},
   "outputs": [],
   "source": [
    "for key, val in tokenizer.word_index.items():\n",
    "    if val==val_max:\n",
    "        k=key"
   ]
  },
  {
   "cell_type": "code",
   "execution_count": 71,
   "id": "50e5676d",
   "metadata": {},
   "outputs": [
    {
     "data": {
      "text/plain": [
       "'no'"
      ]
     },
     "execution_count": 71,
     "metadata": {},
     "output_type": "execute_result"
    }
   ],
   "source": [
    "k"
   ]
  },
  {
   "cell_type": "code",
   "execution_count": null,
   "id": "0b4cd79a",
   "metadata": {},
   "outputs": [],
   "source": []
  }
 ],
 "metadata": {
  "kernelspec": {
   "display_name": "Python 3 (ipykernel)",
   "language": "python",
   "name": "python3"
  },
  "language_info": {
   "codemirror_mode": {
    "name": "ipython",
    "version": 3
   },
   "file_extension": ".py",
   "mimetype": "text/x-python",
   "name": "python",
   "nbconvert_exporter": "python",
   "pygments_lexer": "ipython3",
   "version": "3.8.11"
  }
 },
 "nbformat": 4,
 "nbformat_minor": 5
}
